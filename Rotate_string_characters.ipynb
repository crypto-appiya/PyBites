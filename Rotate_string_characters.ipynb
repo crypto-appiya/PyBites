{
  "nbformat": 4,
  "nbformat_minor": 0,
  "metadata": {
    "colab": {
      "name": "Rotate_string_characters.ipynb",
      "provenance": [],
      "authorship_tag": "ABX9TyMJrgGDJAHs7W+8Hovblega",
      "include_colab_link": true
    },
    "kernelspec": {
      "name": "python3",
      "display_name": "Python 3"
    }
  },
  "cells": [
    {
      "cell_type": "markdown",
      "metadata": {
        "id": "view-in-github",
        "colab_type": "text"
      },
      "source": [
        "<a href=\"https://colab.research.google.com/github/crypto-appiya/PyBites/blob/main/Rotate_string_characters.ipynb\" target=\"_parent\"><img src=\"https://colab.research.google.com/assets/colab-badge.svg\" alt=\"Open In Colab\"/></a>"
      ]
    },
    {
      "cell_type": "markdown",
      "metadata": {
        "id": "IOeUT2Av4Xp0"
      },
      "source": [
        "# Rotate string characters ☆\r\n",
        "Write a function that rotates characters in a string, in both directions:\r\n",
        "\r\n",
        "if n is positive move characters from beginning to end, e.g.: rotate('hello', 2) would return \"llohe\"\r\n",
        "if n is negative move characters to the start of the string, e.g.: rotate('hello', -2) would return  \"lohel\""
      ]
    },
    {
      "cell_type": "markdown",
      "metadata": {
        "id": "192tnD2-4uNi"
      },
      "source": [
        "## Given Template"
      ]
    },
    {
      "cell_type": "code",
      "metadata": {
        "id": "u2nHapVF4Ts_"
      },
      "source": [
        "def rotate(string, n):\r\n",
        "    \"\"\"Rotate characters in a string.\r\n",
        "       Expects string and n (int) for number of characters to move.\r\n",
        "    \"\"\"\r\n",
        "    pass"
      ],
      "execution_count": null,
      "outputs": []
    },
    {
      "cell_type": "markdown",
      "metadata": {
        "id": "PzpNPYrc4yJg"
      },
      "source": [
        "## Solution"
      ]
    },
    {
      "cell_type": "code",
      "metadata": {
        "id": "3HzlIBx041bP"
      },
      "source": [
        "def rotate(string, n):\r\n",
        "    \"\"\"Rotate characters in a string.\r\n",
        "       Expects string and n (int) for number of characters to move.\r\n",
        "    \"\"\"\r\n",
        "    if n <= len(string):\r\n",
        "      return string[n:] + string[:n] \r\n",
        "    else:\r\n",
        "      return string\r\n",
        "\r\n",
        "    "
      ],
      "execution_count": null,
      "outputs": []
    },
    {
      "cell_type": "code",
      "metadata": {
        "colab": {
          "base_uri": "https://localhost:8080/",
          "height": 35
        },
        "id": "XlwGP84K7T8N",
        "outputId": "67dbcc51-5aa2-4fcc-c690-3b17255265ec"
      },
      "source": [
        "rotate('priya',10)"
      ],
      "execution_count": null,
      "outputs": [
        {
          "output_type": "execute_result",
          "data": {
            "application/vnd.google.colaboratory.intrinsic+json": {
              "type": "string"
            },
            "text/plain": [
              "'priya'"
            ]
          },
          "metadata": {
            "tags": []
          },
          "execution_count": 12
        }
      ]
    },
    {
      "cell_type": "markdown",
      "metadata": {
        "id": "9tYAVQuMkns2"
      },
      "source": [
        "# Actual expected solution"
      ]
    },
    {
      "cell_type": "code",
      "metadata": {
        "id": "XNaZOghYkqCD"
      },
      "source": [
        "def rotate(string, n):\r\n",
        "    \"\"\"Rotate characters in a string.\r\n",
        "       Expects string and n (int) for number of characters to move.\r\n",
        "    \"\"\"\r\n",
        "    return string[n:] + string[:n]"
      ],
      "execution_count": null,
      "outputs": []
    }
  ]
}