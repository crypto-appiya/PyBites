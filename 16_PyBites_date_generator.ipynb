{
  "nbformat": 4,
  "nbformat_minor": 0,
  "metadata": {
    "colab": {
      "name": "16. PyBites_date_generator.ipynb",
      "provenance": [],
      "collapsed_sections": [],
      "authorship_tag": "ABX9TyMjqLK7RXwIXBeN9BcF1l+I",
      "include_colab_link": true
    },
    "kernelspec": {
      "name": "python3",
      "display_name": "Python 3"
    }
  },
  "cells": [
    {
      "cell_type": "markdown",
      "metadata": {
        "id": "view-in-github",
        "colab_type": "text"
      },
      "source": [
        "<a href=\"https://colab.research.google.com/github/crypto-appiya/PyBites/blob/main/16_PyBites_date_generator.ipynb\" target=\"_parent\"><img src=\"https://colab.research.google.com/assets/colab-badge.svg\" alt=\"Open In Colab\"/></a>"
      ]
    },
    {
      "cell_type": "markdown",
      "metadata": {
        "id": "pGp8KrGu6HYX"
      },
      "source": [
        "# PyBites date generator ☆\r\n",
        "Write a generator that returns the following \"special\" dates (datetime objects) for PyBites:\r\n",
        "\r\n",
        "- Our birthday! What is the date every year going forward from the PYBITES_BORN date (datetime.datetime(2017, 12, 19, 0, 0), datetime.datetime(2018, 12, 19, 0, 0), ...)?\r\n",
        "\r\n",
        "- Return every 100th day counting forward from the PYBITES_BORN date (datetime(2017, 3, 29, 0, 0), datetime(2017, 7, 7, 0, 0), ...)\r\n",
        "\r\n",
        "As this is a beginner challenge we're only calculating/ testing a few years ahead of the PYBITES_BORN date. This will omit the next leap year (2020) from the challenge making it a bit easier for you (we will revisit this in an intermediate challenge).\r\n",
        "\r\n",
        "Here is how the generator would work if you import and use it in your REPL:\r\n",
        "\r\n",
        ">>> from gendates import gen_special_pybites_dates\r\n",
        ">>> gen = gen_special_pybites_dates()\r\n",
        ">>> for _ in range(10):\r\n",
        "...     next(gen)\r\n",
        "...\r\n",
        "datetime.datetime(2017, 3, 29, 0, 0)  # PyBites 100 days old\r\n",
        "datetime.datetime(2017, 7, 7, 0, 0)  # PyBites 200 days old\r\n",
        "datetime.datetime(2017, 10, 15, 0, 0)  # PyBites 300 days old\r\n",
        "datetime.datetime(2017, 12, 19, 0, 0)  # PyBites turned 1 year\r\n",
        "datetime.datetime(2018, 1, 23, 0, 0)  # PyBites 400 days old\r\n",
        "datetime.datetime(2018, 5, 3, 0, 0)  # PyBites 500 days old\r\n",
        "datetime.datetime(2018, 8, 11, 0, 0)  # PyBites 600 days old\r\n",
        "datetime.datetime(2018, 11, 19, 0, 0)  # PyBites 700 days old\r\n",
        "datetime.datetime(2018, 12, 19, 0, 0)  # PyBites turned 2 years\r\n",
        "datetime.datetime(2019, 2, 27, 0, 0)  # PyBites 800 days old"
      ]
    },
    {
      "cell_type": "markdown",
      "metadata": {
        "id": "bzdu8bqQ6Knc"
      },
      "source": [
        "## Template"
      ]
    },
    {
      "cell_type": "code",
      "metadata": {
        "id": "GE8egraL6Bgr"
      },
      "source": [
        "from datetime import datetime\r\n",
        "\r\n",
        "PYBITES_BORN = datetime(year=2016, month=12, day=19)\r\n",
        "\r\n",
        "\r\n",
        "def gen_special_pybites_dates():\r\n",
        "    pass"
      ],
      "execution_count": null,
      "outputs": []
    },
    {
      "cell_type": "markdown",
      "metadata": {
        "id": "VSU9Hu_26PgF"
      },
      "source": [
        "## Solution"
      ]
    },
    {
      "cell_type": "code",
      "metadata": {
        "id": "viLL-IheRoJA"
      },
      "source": [
        "PYBITES_BORN = datetime(year=2016, month=12, day=19)\r\n",
        "date_list=[]\r\n",
        "\r\n",
        "def gen_special_pybites_dates():\r\n",
        "  '''\r\n",
        "    create first special date with 100 days difference and add it to list.\r\n",
        "  '''\r\n",
        "  new_date=PYBITES_BORN+timedelta(days=100)\r\n",
        "  date_list.append(new_date) \r\n",
        "\r\n",
        "  for i in range(11):  \r\n",
        "    \"\"\"\r\n",
        "      to check first anniversary and second anniversary, check with 300 and 700 days difference as dates are progressing with\r\n",
        "      the 100 days difference\r\n",
        "      2) accordingly add 365 or 730 days in original date of foundation and add it to the list\r\n",
        "      3) bring back the dates so as to keep difference of 100 days and yield the result.\r\n",
        "     \"\"\"\r\n",
        "    #print(f\"PYBITES_BORN+timedelta(days=700): {PYBITES_BORN+timedelta(days=700)}\")  \r\n",
        "             \r\n",
        "    if new_date == (PYBITES_BORN+timedelta(days=300)):\r\n",
        "      new_date=PYBITES_BORN+timedelta(days=365)\r\n",
        "      date_list.append(new_date)\r\n",
        "      new_date=PYBITES_BORN+timedelta(days=300)  \r\n",
        "    elif new_date == (PYBITES_BORN+timedelta(days=700)):\r\n",
        "      new_date=PYBITES_BORN+timedelta(days=730)\r\n",
        "      date_list.append(new_date)\r\n",
        "      new_date=PYBITES_BORN+timedelta(days=700)       \r\n",
        "    \r\n",
        "    new_date=new_date+timedelta(days=100) \r\n",
        "    yield date_list[i]\r\n",
        "    date_list.append(new_date) \r\n",
        " \r\n",
        " "
      ],
      "execution_count": null,
      "outputs": []
    },
    {
      "cell_type": "code",
      "metadata": {
        "colab": {
          "base_uri": "https://localhost:8080/"
        },
        "id": "gVfCA_V3R1cp",
        "outputId": "32070a93-d8e4-45da-e5f6-475cf5ef48db"
      },
      "source": [
        "gen=gen_special_pybites_dates()\r\n",
        "for _ in range(10):\r\n",
        "  print(next(gen))"
      ],
      "execution_count": null,
      "outputs": [
        {
          "output_type": "stream",
          "text": [
            "2017-03-29 00:00:00\n",
            "2017-07-07 00:00:00\n",
            "2017-10-15 00:00:00\n",
            "2017-12-19 00:00:00\n",
            "2018-01-23 00:00:00\n",
            "2018-05-03 00:00:00\n",
            "2018-08-11 00:00:00\n",
            "2018-11-19 00:00:00\n",
            "2018-12-19 00:00:00\n",
            "2019-02-27 00:00:00\n"
          ],
          "name": "stdout"
        }
      ]
    },
    {
      "cell_type": "code",
      "metadata": {
        "colab": {
          "base_uri": "https://localhost:8080/"
        },
        "id": "qYzdLbuvS3Qn",
        "outputId": "d5fa91fd-3a4a-4020-9f0f-982710472c8c"
      },
      "source": [
        "from itertools import islice \r\n",
        "list(islice([1, 2, 3, 4, 5], 0, 5, 2))"
      ],
      "execution_count": null,
      "outputs": [
        {
          "output_type": "execute_result",
          "data": {
            "text/plain": [
              "[1, 3, 5]"
            ]
          },
          "metadata": {
            "tags": []
          },
          "execution_count": 64
        }
      ]
    },
    {
      "cell_type": "markdown",
      "metadata": {
        "id": "B1eKryTygNkX"
      },
      "source": [
        "#References:\r\n",
        "#### https://stackabuse.com/converting-strings-to-datetime-in-python/\r\n",
        "#### https://pybit.es/generators.html\r\n",
        "#### https://realpython.com/python-itertools/#:~:text=The%20islice()%20function%20works,a%20step%20value%2C%20as%20well."
      ]
    },
    {
      "cell_type": "markdown",
      "metadata": {
        "id": "yHOE7bobi5e6"
      },
      "source": [
        "# Actual expected code"
      ]
    },
    {
      "cell_type": "code",
      "metadata": {
        "id": "sIoJhI6RgT4Y"
      },
      "source": [
        "from datetime import datetime, timedelta\r\n",
        "\r\n",
        "PYBITES_BORN = datetime(year=2016, month=12, day=19)\r\n",
        "\r\n",
        "\r\n",
        "def gen_special_pybites_dates():\r\n",
        "    days = 0\r\n",
        "    while True:\r\n",
        "        days += 1\r\n",
        "        if days % 100 == 0 or days % 365 == 0:\r\n",
        "            yield PYBITES_BORN + timedelta(days=days)"
      ],
      "execution_count": null,
      "outputs": []
    }
  ]
}