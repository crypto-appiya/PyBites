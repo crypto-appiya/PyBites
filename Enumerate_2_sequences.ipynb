{
  "nbformat": 4,
  "nbformat_minor": 0,
  "metadata": {
    "colab": {
      "name": "Enumerate_2_sequences.ipynb",
      "provenance": [],
      "collapsed_sections": [],
      "authorship_tag": "ABX9TyNGweS1bAGrfR4FQUvUAsIF",
      "include_colab_link": true
    },
    "kernelspec": {
      "name": "python3",
      "display_name": "Python 3"
    }
  },
  "cells": [
    {
      "cell_type": "markdown",
      "metadata": {
        "id": "view-in-github",
        "colab_type": "text"
      },
      "source": [
        "<a href=\"https://colab.research.google.com/github/crypto-appiya/PyBites/blob/main/Enumerate_2_sequences.ipynb\" target=\"_parent\"><img src=\"https://colab.research.google.com/assets/colab-badge.svg\" alt=\"Open In Colab\"/></a>"
      ]
    },
    {
      "cell_type": "code",
      "metadata": {
        "id": "4WuU2gN8YkxZ"
      },
      "source": [
        ""
      ],
      "execution_count": null,
      "outputs": []
    },
    {
      "cell_type": "markdown",
      "metadata": {
        "id": "YtfNBjgcjsJI"
      },
      "source": [
        "# Enumerate 2 sequences\r\n",
        "Iterate over the given names and countries lists, printing them prepending the number of the loop (starting at 1). Here is the output you need to deliver:\r\n",
        "\r\n",
        "1. Julian     Australia\r\n",
        "2. Bob        Spain\r\n",
        "3. PyBites    Global\r\n",
        "4. Dante      Argentina\r\n",
        "5. Martin     USA\r\n",
        "6. Rodolfo    Mexico\r\n",
        "Notice that the 2nd column should have a fixed width of 11 chars, so between Julian and Australia there are 5 spaces, between Bob and Spain, there are 8. This column should also be aligned to the left.\r\n",
        "\r\n",
        "Ideally you use only one for loop, but that is not a requirement."
      ]
    },
    {
      "cell_type": "markdown",
      "metadata": {
        "id": "U0zZK9nIj8Mw"
      },
      "source": [
        "### Template"
      ]
    },
    {
      "cell_type": "code",
      "metadata": {
        "id": "MkzPc5ipj7EQ"
      },
      "source": [
        "names = 'Julian Bob PyBites Dante Martin Rodolfo'.split()\r\n",
        "countries = 'Australia Spain Global Argentina USA Mexico'.split()\r\n",
        "\r\n",
        "\r\n",
        "def enumerate_names_countries():\r\n",
        "    \"\"\"Outputs:\r\n",
        "       1. Julian     Australia\r\n",
        "       2. Bob        Spain\r\n",
        "       3. PyBites    Global\r\n",
        "       4. Dante      Argentina\r\n",
        "       5. Martin     USA\r\n",
        "       6. Rodolfo    Mexico\"\"\"\r\n",
        "    i = 0\r\n",
        "    for i, name in enumerate(names):\r\n",
        "      country = countries[i]\r\n",
        "      print(str(i+1)+\".\", \"{:<11}\".format(name),country)\r\n",
        "      #for name, country in zip(names, countries):\r\n",
        "      #i += 1\r\n",
        "\r\n",
        "      #print(\"%d %11s %s\" %(i,name,country))\r\n",
        "      #print(str(i) + \".\", name.ljust(11),country)\r\n",
        "      #print(str(i)+\".\", \"{:<11}\".format(name),country)"
      ],
      "execution_count": null,
      "outputs": []
    },
    {
      "cell_type": "code",
      "metadata": {
        "id": "mDavaeeHrgwD"
      },
      "source": [
        "enumerate_names_countries()"
      ],
      "execution_count": null,
      "outputs": []
    },
    {
      "cell_type": "markdown",
      "metadata": {
        "id": "rFc0dfDU37um"
      },
      "source": [
        "### Expected Solution"
      ]
    },
    {
      "cell_type": "code",
      "metadata": {
        "id": "bvNEKAxv4Ccc"
      },
      "source": [
        "names = 'Julian Bob PyBites Dante Martin Rodolfo'.split()\r\n",
        "countries = 'Australia Spain Global Argentina USA Mexico'.split()\r\n",
        "\r\n",
        "\r\n",
        "def enumerate_names_countries():\r\n",
        "    \"\"\"Outputs:\r\n",
        "       1. Julian     Australia\r\n",
        "       2. Bob        Spain\r\n",
        "       3. PyBites    Global\r\n",
        "       4. Dante      Argentina\r\n",
        "       5. Martin     USA\r\n",
        "       6. Rodolfo    Mexico\"\"\"\r\n",
        "       \r\n",
        "    print(\"1. Julian     Australia\")\r\n",
        "    print(\"2. Bob        Spain\")\r\n",
        "    print(\"3. PyBites    Global\")\r\n",
        "    print(\"4. Dante      Argentina\")\r\n",
        "    print(\"5. Martin     USA\")\r\n",
        "    print(\"6. Rodolfo    Mexico\")"
      ],
      "execution_count": null,
      "outputs": []
    },
    {
      "cell_type": "markdown",
      "metadata": {
        "id": "6kXl1cPskBjo"
      },
      "source": [
        "# Expected actual solution"
      ]
    },
    {
      "cell_type": "code",
      "metadata": {
        "id": "4LWfr6HzkEKp"
      },
      "source": [
        "names = 'Julian Bob PyBites Dante Martin Rodolfo'.split()\r\n",
        "countries = 'Australia Spain Global Argentina USA Mexico'.split()\r\n",
        "\r\n",
        "\r\n",
        "def enumerate_names_countries():\r\n",
        "    \"\"\"Outputs:\r\n",
        "       1. Julian     Australia\r\n",
        "       2. Bob        Spain\r\n",
        "       3. PyBites    Global\r\n",
        "       4. Dante      Argentina\r\n",
        "       5. Martin     USA\r\n",
        "       6. Rodolfo    Mexico\"\"\"\r\n",
        "    for i, (name, country) in enumerate(zip(names, countries), 1):\r\n",
        "        print(f\"{i}. {name:<11}{country:<11}\")"
      ],
      "execution_count": null,
      "outputs": []
    }
  ]
}