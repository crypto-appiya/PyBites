{
  "nbformat": 4,
  "nbformat_minor": 0,
  "metadata": {
    "colab": {
      "name": "A_context_manager.ipynb",
      "provenance": [],
      "authorship_tag": "ABX9TyOyoiJvCLRyLcMGTh0Htool",
      "include_colab_link": true
    },
    "kernelspec": {
      "name": "python3",
      "display_name": "Python 3"
    }
  },
  "cells": [
    {
      "cell_type": "markdown",
      "metadata": {
        "id": "view-in-github",
        "colab_type": "text"
      },
      "source": [
        "<a href=\"https://colab.research.google.com/github/crypto-appiya/PyBites/blob/main/A_context_manager.ipynb\" target=\"_parent\"><img src=\"https://colab.research.google.com/assets/colab-badge.svg\" alt=\"Open In Colab\"/></a>"
      ]
    },
    {
      "cell_type": "markdown",
      "metadata": {
        "id": "FdoxxUnf45zG"
      },
      "source": [
        "# Write a context manager ☆\r\n",
        "Write a context manager to roll back a transaction on the given Account class.\r\n",
        "\r\n",
        "There are two special (aka dunder) methods you need to define to create a context manager.\r\n",
        "\r\n",
        "The purpose of the context manager is to roll back any transaction that will make the balance go below 0 (debt != cool). The rest of the class is already defined so you can focus on the context manager part."
      ]
    },
    {
      "cell_type": "markdown",
      "metadata": {
        "id": "g8nhBsbv49So"
      },
      "source": [
        "## Template"
      ]
    },
    {
      "cell_type": "code",
      "metadata": {
        "id": "Hi0Mfrou4417"
      },
      "source": [
        "class Account:\r\n",
        "\r\n",
        "    def __init__(self):\r\n",
        "        self._transactions = []\r\n",
        "\r\n",
        "    @property\r\n",
        "    def balance(self):\r\n",
        "        return sum(self._transactions)\r\n",
        "\r\n",
        "    def __add__(self, amount):\r\n",
        "        self._transactions.append(amount)\r\n",
        "\r\n",
        "    def __sub__(self, amount):\r\n",
        "        self._transactions.append(-amount)\r\n",
        "\r\n",
        "    # add 2 dunder methods here to turn this class \r\n",
        "    # into a 'rollback' context manager"
      ],
      "execution_count": null,
      "outputs": []
    },
    {
      "cell_type": "markdown",
      "metadata": {
        "id": "eKs4rbFh5FNh"
      },
      "source": [
        "## Solution"
      ]
    },
    {
      "cell_type": "code",
      "metadata": {
        "id": "NCA9qfuI5HO4"
      },
      "source": [
        "class Account:\r\n",
        "\r\n",
        "    def __init__(self):\r\n",
        "        self._transactions = []\r\n",
        "\r\n",
        "    @property\r\n",
        "    def balance(self):\r\n",
        "        return sum(self._transactions)\r\n",
        "\r\n",
        "    def __add__(self, amount):\r\n",
        "        self._transactions.append(amount)\r\n",
        "\r\n",
        "    def __sub__(self, amount):\r\n",
        "        self._transactions.append(-amount)\r\n",
        "\r\n",
        "    # add 2 dunder methods here to turn this class \r\n",
        "    # into a 'rollback' context manager\r\n",
        "\r\n",
        "    def __enter__(self): \r\n",
        "      return self\r\n",
        "      \r\n",
        "    def __exit__(self, exc_type, exc_value, exc_traceback): \r\n",
        "      if self.balance <=0 :\r\n",
        "          print(\"Can not set balance to Zero, Rolling back...\")\r\n",
        "          self + abs(self._transactions[len(self._transactions)-1])\r\n",
        "         \r\n",
        "\r\n",
        "  "
      ],
      "execution_count": 19,
      "outputs": []
    },
    {
      "cell_type": "code",
      "metadata": {
        "colab": {
          "base_uri": "https://localhost:8080/"
        },
        "id": "jspeLKDuBgan",
        "outputId": "eabcd06a-4fa9-4d14-e526-df53f6a52641"
      },
      "source": [
        "with Account() as hdfc:\r\n",
        "  hdfc +=100\r\n",
        "  hdfc = -150\r\n",
        "  #print(\"Opening account with HDFC\")\r\n",
        "  #print(\"trying to withdraw 150\")\r\n",
        "\r\n",
        "with Account() as df:\r\n",
        "  df-150\r\n",
        "  "
      ],
      "execution_count": 21,
      "outputs": [
        {
          "output_type": "stream",
          "text": [
            "enter method called\n",
            "exit method called None\n",
            "current balance 100\n",
            "enter method called\n",
            "exit method called None\n",
            "current balance -150\n",
            "Can not set balance to Zero, Rolling back...\n"
          ],
          "name": "stdout"
        }
      ]
    },
    {
      "cell_type": "markdown",
      "metadata": {
        "id": "fSScnJBsUMaY"
      },
      "source": [
        "## expected Solution"
      ]
    },
    {
      "cell_type": "code",
      "metadata": {
        "id": "jcFIwqgCAhR0"
      },
      "source": [
        "class Account:\r\n",
        "\r\n",
        "    def __init__(self):\r\n",
        "        self._transactions = []\r\n",
        "\r\n",
        "    @property\r\n",
        "    def balance(self):\r\n",
        "        return sum(self._transactions)\r\n",
        "\r\n",
        "    def __add__(self, amount):\r\n",
        "        self._transactions.append(amount)\r\n",
        "\r\n",
        "    def __sub__(self, amount):\r\n",
        "        self._transactions.append(-amount)\r\n",
        "\r\n",
        "    def __enter__(self):\r\n",
        "        self._copy_transactions = list(self._transactions)\r\n",
        "        return self\r\n",
        "\r\n",
        "    def __exit__(self, exc_type, exc_val, exc_tb):\r\n",
        "        if self.balance < 0:\r\n",
        "            print('Balance below 0, rolling back transaction')\r\n",
        "            self._transactions = self._copy_transactions"
      ],
      "execution_count": null,
      "outputs": []
    },
    {
      "cell_type": "code",
      "metadata": {
        "id": "vC2jxK23pqnq"
      },
      "source": [
        "file = open(\"somefile.txt\",\"w\")\r\n",
        "file.write(\"Hi, let's discuss on managing resources in Python...\")\r\n",
        "file.close()"
      ],
      "execution_count": null,
      "outputs": []
    },
    {
      "cell_type": "code",
      "metadata": {
        "id": "d7kNLQsipqkg"
      },
      "source": [
        "file = open('some_file', 'w')\r\n",
        "try:\r\n",
        "  file.write('Hi, let's discuss on managing resources in Python...!')\r\n",
        "finally:\r\n",
        "  file.close()"
      ],
      "execution_count": null,
      "outputs": []
    },
    {
      "cell_type": "code",
      "metadata": {
        "id": "pXlRMKIAq2Fh"
      },
      "source": [
        "with open('some_file', 'w') as opened_file:\r\n",
        "    opened_file.write('Hi, let's discuss on managing resources in Python...!')"
      ],
      "execution_count": null,
      "outputs": []
    },
    {
      "cell_type": "code",
      "metadata": {
        "id": "K7QS6J3puAea"
      },
      "source": [
        "# Python program shows the \r\n",
        "# connection management  \r\n",
        "# for MongoDB \r\n",
        "  \r\n",
        "from pymongo import MongoClient \r\n",
        "  \r\n",
        "class MongoDBConnectionManager(): \r\n",
        "    def __init__(self, hostname, port): \r\n",
        "        self.hostname = hostname \r\n",
        "        self.port = port \r\n",
        "        self.connection = None\r\n",
        "  \r\n",
        "    def __enter__(self): \r\n",
        "        self.connection = MongoClient(self.hostname, self.port) \r\n",
        "        return self\r\n",
        "  \r\n",
        "    def __exit__(self, exc_type, exc_value, exc_traceback): \r\n",
        "        self.connection.close() \r\n",
        "  \r\n",
        "# connecting with a localhost \r\n",
        "with MongoDBConnectionManager('localhost', '27017') as mongo: \r\n",
        "    collection = mongo.connection.SampleDb.test \r\n",
        "    data = collection.find({'_id': 1}) \r\n",
        "    print(data.get('name')) "
      ],
      "execution_count": null,
      "outputs": []
    },
    {
      "cell_type": "code",
      "metadata": {
        "id": "9WUMmwtJvatJ"
      },
      "source": [
        "# Python program showing \r\n",
        "# file management using  \r\n",
        "# context manager \r\n",
        "  \r\n",
        "class FileManager(): \r\n",
        "    def __init__(self, filename, mode): \r\n",
        "        self.filename = filename \r\n",
        "        self.mode = mode \r\n",
        "        self.file = None\r\n",
        "          \r\n",
        "    def __enter__(self): \r\n",
        "        self.file = open(self.filename, self.mode) \r\n",
        "        return self.file\r\n",
        "      \r\n",
        "    def __exit__(self, exc_type, exc_value, exc_traceback): \r\n",
        "        self.file.close() \r\n",
        "  \r\n",
        "# loading a file  \r\n",
        "with FileManager('test.txt', 'w') as f: \r\n",
        "    f.write('Test') \r\n",
        "  \r\n",
        "print(f.closed) "
      ],
      "execution_count": null,
      "outputs": []
    }
  ]
}