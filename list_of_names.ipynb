{
  "nbformat": 4,
  "nbformat_minor": 0,
  "metadata": {
    "colab": {
      "name": " list_of_names.ipynb",
      "provenance": [],
      "collapsed_sections": [],
      "authorship_tag": "ABX9TyM/jbN8mn6e1vWFfKFs6sMe",
      "include_colab_link": true
    },
    "kernelspec": {
      "name": "python3",
      "display_name": "Python 3"
    }
  },
  "cells": [
    {
      "cell_type": "markdown",
      "metadata": {
        "id": "view-in-github",
        "colab_type": "text"
      },
      "source": [
        "<a href=\"https://colab.research.google.com/github/crypto-appiya/PyBites/blob/main/list_of_names.ipynb\" target=\"_parent\"><img src=\"https://colab.research.google.com/assets/colab-badge.svg\" alt=\"Open In Colab\"/></a>"
      ]
    },
    {
      "cell_type": "markdown",
      "metadata": {
        "id": "ip42rSe2SsCT"
      },
      "source": [
        "# Sum n numbers ☆\r\n",
        "Write a function that can sum up numbers:\r\n",
        "\r\n",
        "It should receive a sequence of n numbers.\r\n",
        "If no argument is provided, return sum of numbers 1..100.\r\n",
        "Look closely to the type of the function's default argument ..."
      ]
    },
    {
      "cell_type": "markdown",
      "metadata": {
        "id": "yWIra6-_YNw6"
      },
      "source": [
        "# using lambda"
      ]
    },
    {
      "cell_type": "code",
      "metadata": {
        "id": "I9nPNNqvPACx"
      },
      "source": [
        "from functools import reduce\r\n",
        "def sum_numbers(numbers=None):\r\n",
        "    return sum(map(lambda n: n,numbers)) if numbers else reduce((lambda x,y: x+y), range(1,101))"
      ],
      "execution_count": null,
      "outputs": []
    },
    {
      "cell_type": "code",
      "metadata": {
        "id": "0V2QfvDFaZM6"
      },
      "source": [
        "from functools import reduce"
      ],
      "execution_count": null,
      "outputs": []
    },
    {
      "cell_type": "code",
      "metadata": {
        "colab": {
          "base_uri": "https://localhost:8080/"
        },
        "id": "tMj9OsehV4uc",
        "outputId": "cc6f7952-3030-4ab8-8670-3cf13646bb18"
      },
      "source": [
        "#numlist=[1,2,3,4,5]\r\n",
        "numlist=None\r\n",
        "print(sum_numbers(numlist))"
      ],
      "execution_count": null,
      "outputs": [
        {
          "output_type": "stream",
          "text": [
            "5050\n"
          ],
          "name": "stdout"
        }
      ]
    },
    {
      "cell_type": "markdown",
      "metadata": {
        "id": "kN1eeNx1YUqm"
      },
      "source": [
        "# Using usual method"
      ]
    },
    {
      "cell_type": "code",
      "metadata": {
        "id": "gbFi6ryhYYW4"
      },
      "source": [
        "def sum_numbers(numbers=None):\r\n",
        "    sum = 0\r\n",
        "    if numbers == None:\r\n",
        "        for num in range(1,101):\r\n",
        "            sum += num\r\n",
        "    else:\r\n",
        "        for num in numbers:\r\n",
        "            sum += num\r\n",
        "            \r\n",
        "    return sum"
      ],
      "execution_count": null,
      "outputs": []
    },
    {
      "cell_type": "markdown",
      "metadata": {
        "id": "LVjVHNj_teat"
      },
      "source": [
        "# In this bite you will work with a list of names.\r\n",
        "\r\n",
        "First you will write a function to take out duplicates and title case them.\r\n",
        "\r\n",
        "Then you will sort the list in alphabetical descending order by surname and lastly determine what the shortest first name is. For this exercise you can assume there is always one name and one surname."
      ]
    },
    {
      "cell_type": "markdown",
      "metadata": {
        "id": "Ob71G_ZAp5F2"
      },
      "source": [
        "## Given template"
      ]
    },
    {
      "cell_type": "code",
      "metadata": {
        "id": "w1up0xZzjnm9"
      },
      "source": [
        "NAMES = ['arnold schwarzenegger', 'alec baldwin', 'bob belderbos',\r\n",
        "         'julian sequeira', 'sandra bullock', 'keanu reeves',\r\n",
        "         'julbob pybites', 'bob belderbos', 'julian sequeira',\r\n",
        "         'al pacino', 'brad pitt', 'matt damon', 'brad pitt']\r\n",
        "\r\n",
        "\r\n",
        "def dedup_and_title_case_names(names):\r\n",
        "    \"\"\"Should return a list of title cased names,\r\n",
        "       each name appears only once\"\"\"\r\n",
        "    pass\r\n",
        "\r\n",
        "def sort_by_surname_desc(names):\r\n",
        "    \"\"\"Returns names list sorted desc by surname\"\"\"\r\n",
        "    names = dedup_and_title_case_names(names)\r\n",
        "    # ...\r\n",
        "\r\n",
        "\r\n",
        "def shortest_first_name(names):\r\n",
        "    \"\"\"Returns the shortest first name (str).\r\n",
        "       You can assume there is only one shortest name.\r\n",
        "    \"\"\"\r\n",
        "    names = dedup_and_title_case_names(names)\r\n",
        "    # ..."
      ],
      "execution_count": null,
      "outputs": []
    },
    {
      "cell_type": "markdown",
      "metadata": {
        "id": "zrN7FHk5p8v-"
      },
      "source": [
        "## Solution"
      ]
    },
    {
      "cell_type": "code",
      "metadata": {
        "id": "ak-uKfxbjrf5"
      },
      "source": [
        "NAMES = ['arnold schwarzenegger', 'alec baldwin', 'bob belderbos',\r\n",
        "         'julian sequeira', 'sandra bullock', 'keanu reeves',\r\n",
        "         'julbob pybites', 'bob belderbos', 'julian sequeira',\r\n",
        "         'al pacino', 'brad pitt', 'matt damon', 'brad pitt']\r\n",
        "\r\n",
        "\r\n",
        "def dedup_and_title_case_names(names):\r\n",
        "\r\n",
        "    \"\"\"Should return a list of title cased names,\r\n",
        "       each name appears only once\"\"\"\r\n",
        "    title_names= list(map(lambda name:name.title() ,names))\r\n",
        "    unique_names=list(set(title_names))\r\n",
        "    return unique_names\r\n",
        "\r\n",
        "\r\n",
        "def sort_by_surname_desc(names):\r\n",
        "    \"\"\"Returns names list sorted desc by surname\"\"\"\r\n",
        "    names = dedup_and_title_case_names(names)\r\n",
        "    return sorted(names, key=lambda name: name.split(\" \")[-1], reverse=True)\r\n",
        "    # ...\r\n",
        "\r\n",
        "\r\n",
        "def shortest_first_name(names):\r\n",
        "    \"\"\"Returns the shortest first name (str).\r\n",
        "       You can assume there is only one shortest name.\r\n",
        "    \"\"\"\r\n",
        "    names = dedup_and_title_case_names(names)\r\n",
        "    return sorted(names, key=len)[0].split(\" \")[0] #lambda name:(name.split(\" \")[0])))\r\n",
        "    # ..."
      ],
      "execution_count": null,
      "outputs": []
    },
    {
      "cell_type": "code",
      "metadata": {
        "colab": {
          "base_uri": "https://localhost:8080/",
          "height": 35
        },
        "id": "KFaVCYPTkKtB",
        "outputId": "239e3829-270d-406f-9976-c47415f96dfa"
      },
      "source": [
        "#NAMES=[\"Merol B Joseph\", \"Ferzil Babu\", \"Basil Abraham\", \"Kiran Baby\", \"Ziya sofia\"]\r\n",
        "shortest_first_name(NAMES)"
      ],
      "execution_count": null,
      "outputs": [
        {
          "output_type": "execute_result",
          "data": {
            "application/vnd.google.colaboratory.intrinsic+json": {
              "type": "string"
            },
            "text/plain": [
              "'Al'"
            ]
          },
          "metadata": {
            "tags": []
          },
          "execution_count": 60
        }
      ]
    },
    {
      "cell_type": "markdown",
      "metadata": {
        "id": "gq4cYgyVlTde"
      },
      "source": [
        "# Actual expected solution"
      ]
    },
    {
      "cell_type": "code",
      "metadata": {
        "id": "NdDSfivRlWae"
      },
      "source": [
        "NAMES = ['arnold schwarzenegger', 'alec baldwin', 'bob belderbos',\r\n",
        "         'julian sequeira', 'sandra bullock', 'keanu reeves',\r\n",
        "         'julbob pybites', 'bob belderbos', 'julian sequeira',\r\n",
        "         'al pacino', 'brad pitt', 'matt damon', 'brad pitt']\r\n",
        "\r\n",
        "\r\n",
        "def dedup_and_title_case_names(names):\r\n",
        "    \"\"\"Should return a list of title cased names,\r\n",
        "       each name appears only once\"\"\"\r\n",
        "    return list({name.title() for name in names})\r\n",
        "\r\n",
        "\r\n",
        "def sort_by_surname_desc(names):\r\n",
        "    \"\"\"Returns names list sorted desc by surname\"\"\"\r\n",
        "    names = dedup_and_title_case_names(names)\r\n",
        "    return sorted(names,\r\n",
        "                  key=lambda x: x.split()[-1],\r\n",
        "                  reverse=True)\r\n",
        "\r\n",
        "\r\n",
        "def shortest_first_name(names):\r\n",
        "    \"\"\"Returns the shortest first name (str).\r\n",
        "       You can assume there is only one shortest name.\r\n",
        "    \"\"\"\r\n",
        "    names = dedup_and_title_case_names(names)\r\n",
        "    names = [name.split()[0] for name in names]\r\n",
        "    return min(names, key=len)"
      ],
      "execution_count": null,
      "outputs": []
    }
  ]
}